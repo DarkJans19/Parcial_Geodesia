{
 "cells": [
  {
   "cell_type": "code",
   "execution_count": 1,
   "metadata": {},
   "outputs": [],
   "source": [
    "import pandas as pd\n",
    "import matplotlib.pyplot as plt\n",
    "import numpy as np"
   ]
  },
  {
   "cell_type": "code",
   "execution_count": 2,
   "metadata": {},
   "outputs": [],
   "source": [
    "df = pd.read_excel(r'D:\\Users\\Jan Sanchez\\Documents\\Repositorios\\Programacion\\Tarea heidy\\Punto_2\\Cartera Nivelacion formateada.xlsx', sheet_name = 'Hoja2')"
   ]
  },
  {
   "cell_type": "code",
   "execution_count": 3,
   "metadata": {},
   "outputs": [
    {
     "data": {
      "text/html": [
       "<div>\n",
       "<style scoped>\n",
       "    .dataframe tbody tr th:only-of-type {\n",
       "        vertical-align: middle;\n",
       "    }\n",
       "\n",
       "    .dataframe tbody tr th {\n",
       "        vertical-align: top;\n",
       "    }\n",
       "\n",
       "    .dataframe thead th {\n",
       "        text-align: right;\n",
       "    }\n",
       "</style>\n",
       "<table border=\"1\" class=\"dataframe\">\n",
       "  <thead>\n",
       "    <tr style=\"text-align: right;\">\n",
       "      <th></th>\n",
       "      <th>ESTACION</th>\n",
       "      <th>PV</th>\n",
       "      <th>Distancia1</th>\n",
       "      <th>Distancia2</th>\n",
       "      <th>Distancia entre cambios</th>\n",
       "      <th>Distancia Absoluta</th>\n",
       "      <th>DATO V+</th>\n",
       "      <th>V-</th>\n",
       "      <th>Cota</th>\n",
       "    </tr>\n",
       "  </thead>\n",
       "  <tbody>\n",
       "    <tr>\n",
       "      <th>0</th>\n",
       "      <td>NaN</td>\n",
       "      <td>Valores iniciales</td>\n",
       "      <td>NaN</td>\n",
       "      <td>NaN</td>\n",
       "      <td>NaN</td>\n",
       "      <td>NaN</td>\n",
       "      <td>NaN</td>\n",
       "      <td>NaN</td>\n",
       "      <td>NaN</td>\n",
       "    </tr>\n",
       "  </tbody>\n",
       "</table>\n",
       "</div>"
      ],
      "text/plain": [
       "   ESTACION                 PV  Distancia1  Distancia2  \\\n",
       "0       NaN  Valores iniciales         NaN         NaN   \n",
       "\n",
       "   Distancia entre cambios  Distancia Absoluta  DATO V+  V-  Cota  \n",
       "0                      NaN                 NaN      NaN NaN   NaN  "
      ]
     },
     "execution_count": 3,
     "metadata": {},
     "output_type": "execute_result"
    }
   ],
   "source": [
    "df"
   ]
  },
  {
   "cell_type": "code",
   "execution_count": 4,
   "metadata": {},
   "outputs": [],
   "source": [
    "# Esta funcion pide un valor al usuario para modificar la distancia\n",
    "def solicitar_nueva_distancia(columna):\n",
    "    while True:\n",
    "        try:\n",
    "            nuevo_valor = float(input(f\"Ingrese un nuevo valor para la {columna}: \"))\n",
    "            return nuevo_valor\n",
    "        except ValueError:\n",
    "            print(\"Entrada inválida. Debe ingresar un número.\")"
   ]
  },
  {
   "cell_type": "code",
   "execution_count": 5,
   "metadata": {},
   "outputs": [
    {
     "name": "stdout",
     "output_type": "stream",
     "text": [
      "\n",
      "Fila 0: La diferencia entre Distancia1 (nan) y Distancia2 (nan) es nan, fuera del rango permitido.\n"
     ]
    },
    {
     "name": "stdout",
     "output_type": "stream",
     "text": [
      "Opción inválida, no se realizó ningún cambio.\n"
     ]
    }
   ],
   "source": [
    "for i in range(len(df)):\n",
    "    diferencia = abs(df.loc[i, 'Distancia1'] - df.loc[i, 'Distancia2'])\n",
    "    if not (0.5 <= diferencia <= 7):\n",
    "        print(f\"\\nFila {i}: La diferencia entre Distancia1 ({df.loc[i, 'Distancia1']}) y Distancia2 ({df.loc[i, 'Distancia2']}) es {diferencia}, fuera del rango permitido.\")\n",
    "        # Pedimos al usuario que elija qué distancia cambiar\n",
    "        cambiar = input(\"¿Qué distancia desea cambiar? Ingrese 1 para Distancia1 o 2 para Distancia2: \")\n",
    "        if cambiar == \"1\":\n",
    "            df.loc[i, 'Distancia1'] = solicitar_nueva_distancia('Distancia1')\n",
    "        elif cambiar == \"2\":\n",
    "            df.loc[i, 'Distancia2'] = solicitar_nueva_distancia('Distancia2')\n",
    "        else:\n",
    "            print(\"Opción inválida, no se realizó ningún cambio.\")"
   ]
  },
  {
   "cell_type": "code",
   "execution_count": 6,
   "metadata": {},
   "outputs": [
    {
     "data": {
      "text/html": [
       "<div>\n",
       "<style scoped>\n",
       "    .dataframe tbody tr th:only-of-type {\n",
       "        vertical-align: middle;\n",
       "    }\n",
       "\n",
       "    .dataframe tbody tr th {\n",
       "        vertical-align: top;\n",
       "    }\n",
       "\n",
       "    .dataframe thead th {\n",
       "        text-align: right;\n",
       "    }\n",
       "</style>\n",
       "<table border=\"1\" class=\"dataframe\">\n",
       "  <thead>\n",
       "    <tr style=\"text-align: right;\">\n",
       "      <th></th>\n",
       "      <th>ESTACION</th>\n",
       "      <th>PV</th>\n",
       "      <th>Distancia1</th>\n",
       "      <th>Distancia2</th>\n",
       "      <th>Distancia entre cambios</th>\n",
       "      <th>Distancia Absoluta</th>\n",
       "      <th>DATO V+</th>\n",
       "      <th>V-</th>\n",
       "      <th>Cota</th>\n",
       "    </tr>\n",
       "  </thead>\n",
       "  <tbody>\n",
       "    <tr>\n",
       "      <th>0</th>\n",
       "      <td>NaN</td>\n",
       "      <td>Valores iniciales</td>\n",
       "      <td>NaN</td>\n",
       "      <td>NaN</td>\n",
       "      <td>NaN</td>\n",
       "      <td>NaN</td>\n",
       "      <td>NaN</td>\n",
       "      <td>NaN</td>\n",
       "      <td>NaN</td>\n",
       "    </tr>\n",
       "  </tbody>\n",
       "</table>\n",
       "</div>"
      ],
      "text/plain": [
       "   ESTACION                 PV  Distancia1  Distancia2  \\\n",
       "0       NaN  Valores iniciales         NaN         NaN   \n",
       "\n",
       "   Distancia entre cambios  Distancia Absoluta  DATO V+  V-  Cota  \n",
       "0                      NaN                 NaN      NaN NaN   NaN  "
      ]
     },
     "execution_count": 6,
     "metadata": {},
     "output_type": "execute_result"
    }
   ],
   "source": [
    "df"
   ]
  },
  {
   "cell_type": "code",
   "execution_count": 7,
   "metadata": {},
   "outputs": [],
   "source": [
    "df['Distancia entre cambios'] = df['Distancia1'] + df['Distancia2']"
   ]
  },
  {
   "cell_type": "code",
   "execution_count": 8,
   "metadata": {},
   "outputs": [],
   "source": [
    "for i in range(1, len(df)):\n",
    "    df.loc[i, 'Distancia Absoluta'] = df.loc[i - 1, 'Distancia Absoluta'] + df.loc[i - 1, 'Distancia entre cambios']"
   ]
  },
  {
   "cell_type": "code",
   "execution_count": null,
   "metadata": {},
   "outputs": [],
   "source": [
    "# Utilizamos esta formula para realizar la operacion columna por columna\n",
    "df['resta'] = df['DATO V+'] - df['V-']\n",
    "\n",
    "df['Sube'] = np.where(df['resta'] > 0, df['resta'], np.nan)\n",
    "df['Baja'] = np.where(df['resta'] < 0, abs(df['resta']), np.nan)"
   ]
  },
  {
   "cell_type": "code",
   "execution_count": 10,
   "metadata": {},
   "outputs": [],
   "source": [
    "# Crear columnas desplazadas para \"Sube\" y \"Baja\", corriendo una fila hacia abajo\n",
    "df['Sube_shifted'] = df['Sube'].shift(1)\n",
    "df['Baja_shifted'] = df['Baja'].shift(1)\n",
    "\n",
    "# Mantenemos intacto el primer valor de cota para no desorganizar los datos dados\n",
    "# Este es un bucle que inicia desde la fila 1 (No inicia desde la fila 0 puesto que corrimos una fila hacia abajo para no modificar el valor de cota)\n",
    "for i in range(1, len(df)):\n",
    "    # Esta linea lo que hace es verificar si el valor NO es un Nan, en caso de que no lo sea especificamente en la posicion\n",
    "    # i de la columna sube_shifted lo que hacemos es que en la posicion i de cota se sume el valor de la fila de arriba de cota con \n",
    "    # Sube shifted dependiendo si es o no un sube o un baja\n",
    "    if not pd.isna(df.loc[i, 'Sube_shifted']):\n",
    "        df.loc[i, 'Cota'] = df.loc[i-1, 'Cota'] + df.loc[i, 'Sube_shifted']\n",
    "    elif not pd.isna(df.loc[i, 'Baja_shifted']):\n",
    "        df.loc[i, 'Cota'] = df.loc[i-1, 'Cota'] - df.loc[i, 'Baja_shifted']"
   ]
  },
  {
   "cell_type": "code",
   "execution_count": 11,
   "metadata": {},
   "outputs": [],
   "source": [
    "# Eliminar las columnas auxiliares para que no sean visibles\n",
    "df = df.drop(columns=['Sube_shifted', 'Baja_shifted', 'resta'])"
   ]
  },
  {
   "cell_type": "code",
   "execution_count": 12,
   "metadata": {},
   "outputs": [
    {
     "data": {
      "text/html": [
       "<div>\n",
       "<style scoped>\n",
       "    .dataframe tbody tr th:only-of-type {\n",
       "        vertical-align: middle;\n",
       "    }\n",
       "\n",
       "    .dataframe tbody tr th {\n",
       "        vertical-align: top;\n",
       "    }\n",
       "\n",
       "    .dataframe thead th {\n",
       "        text-align: right;\n",
       "    }\n",
       "</style>\n",
       "<table border=\"1\" class=\"dataframe\">\n",
       "  <thead>\n",
       "    <tr style=\"text-align: right;\">\n",
       "      <th></th>\n",
       "      <th>ESTACION</th>\n",
       "      <th>PV</th>\n",
       "      <th>Distancia1</th>\n",
       "      <th>Distancia2</th>\n",
       "      <th>Distancia entre cambios</th>\n",
       "      <th>Distancia Absoluta</th>\n",
       "      <th>DATO V+</th>\n",
       "      <th>V-</th>\n",
       "      <th>Cota</th>\n",
       "      <th>Sube</th>\n",
       "      <th>Baja</th>\n",
       "    </tr>\n",
       "  </thead>\n",
       "  <tbody>\n",
       "    <tr>\n",
       "      <th>0</th>\n",
       "      <td>NaN</td>\n",
       "      <td>Valores iniciales</td>\n",
       "      <td>NaN</td>\n",
       "      <td>NaN</td>\n",
       "      <td>NaN</td>\n",
       "      <td>NaN</td>\n",
       "      <td>NaN</td>\n",
       "      <td>NaN</td>\n",
       "      <td>NaN</td>\n",
       "      <td>NaN</td>\n",
       "      <td>NaN</td>\n",
       "    </tr>\n",
       "  </tbody>\n",
       "</table>\n",
       "</div>"
      ],
      "text/plain": [
       "   ESTACION                 PV  Distancia1  Distancia2  \\\n",
       "0       NaN  Valores iniciales         NaN         NaN   \n",
       "\n",
       "   Distancia entre cambios  Distancia Absoluta  DATO V+  V-  Cota  Sube  Baja  \n",
       "0                      NaN                 NaN      NaN NaN   NaN   NaN   NaN  "
      ]
     },
     "execution_count": 12,
     "metadata": {},
     "output_type": "execute_result"
    }
   ],
   "source": [
    "df"
   ]
  },
  {
   "cell_type": "code",
   "execution_count": 13,
   "metadata": {},
   "outputs": [],
   "source": [
    "# Ahora calculamos la altura instrumental a partir de la primera hoja para comparar los resultados\n",
    "df2 = pd.read_excel(r'D:\\Users\\Jan Sanchez\\Documents\\Repositorios\\Programacion\\Tarea heidy\\Punto_2\\Cartera Nivelacion formateada.xlsx')"
   ]
  },
  {
   "cell_type": "code",
   "execution_count": 14,
   "metadata": {},
   "outputs": [
    {
     "data": {
      "text/html": [
       "<div>\n",
       "<style scoped>\n",
       "    .dataframe tbody tr th:only-of-type {\n",
       "        vertical-align: middle;\n",
       "    }\n",
       "\n",
       "    .dataframe tbody tr th {\n",
       "        vertical-align: top;\n",
       "    }\n",
       "\n",
       "    .dataframe thead th {\n",
       "        text-align: right;\n",
       "    }\n",
       "</style>\n",
       "<table border=\"1\" class=\"dataframe\">\n",
       "  <thead>\n",
       "    <tr style=\"text-align: right;\">\n",
       "      <th></th>\n",
       "      <th>ESTACION</th>\n",
       "      <th>PV</th>\n",
       "      <th>DATO V+</th>\n",
       "      <th>V-</th>\n",
       "      <th>Distancia1</th>\n",
       "      <th>Distancia2</th>\n",
       "      <th>Distancia entre cambios</th>\n",
       "      <th>Distancia Absoluta</th>\n",
       "      <th>ALTURA INSTRUMENTAL</th>\n",
       "      <th>COTA</th>\n",
       "    </tr>\n",
       "  </thead>\n",
       "  <tbody>\n",
       "    <tr>\n",
       "      <th>0</th>\n",
       "      <td>NaN</td>\n",
       "      <td>Valores iniciales</td>\n",
       "      <td>NaN</td>\n",
       "      <td>NaN</td>\n",
       "      <td>NaN</td>\n",
       "      <td>NaN</td>\n",
       "      <td>NaN</td>\n",
       "      <td>NaN</td>\n",
       "      <td>NaN</td>\n",
       "      <td>NaN</td>\n",
       "    </tr>\n",
       "  </tbody>\n",
       "</table>\n",
       "</div>"
      ],
      "text/plain": [
       "   ESTACION                 PV  DATO V+  V-  Distancia1  Distancia2  \\\n",
       "0       NaN  Valores iniciales      NaN NaN         NaN         NaN   \n",
       "\n",
       "   Distancia entre cambios  Distancia Absoluta  ALTURA INSTRUMENTAL  COTA  \n",
       "0                      NaN                 NaN                  NaN   NaN  "
      ]
     },
     "execution_count": 14,
     "metadata": {},
     "output_type": "execute_result"
    }
   ],
   "source": [
    "df2"
   ]
  },
  {
   "cell_type": "code",
   "execution_count": 15,
   "metadata": {},
   "outputs": [],
   "source": [
    "# Bucle while para calcular ALTURA INSTRUMENTAL y COTA hasta que no haya cambios\n",
    "cambios_realizados = True\n",
    "\n",
    "while cambios_realizados:\n",
    "    cambios_realizados = False  # Asumir que no se harán más cambios en esta iteración\n",
    "    for i in range(len(df2)):\n",
    "        if i == 0:\n",
    "            # Para la primera fila, calcular ALTURA INSTRUMENTAL con COTA y DATO V+\n",
    "            df2.loc[i, 'ALTURA INSTRUMENTAL'] = df2.loc[i, 'COTA'] + df2.loc[i, 'DATO V+']\n",
    "            continue\n",
    "\n",
    "        # Obtener COTA anterior\n",
    "        cota_anterior = df2.loc[i - 1, 'COTA']\n",
    "\n",
    "        # Calcular ALTURA INSTRUMENTAL usando la COTA actual\n",
    "        altura_instrumental_anterior = df2.loc[i - 1, 'ALTURA INSTRUMENTAL']\n",
    "        df2.loc[i, 'ALTURA INSTRUMENTAL'] = df2.loc[i, 'DATO V+'] + df2.loc[i, 'COTA']\n",
    "\n",
    "        # Calcular COTA\n",
    "        v_minus = df2.loc[i - 1, 'V-'] if pd.notna(df2.loc[i - 1, 'V-']) else 0  # Manejar valores nulos\n",
    "        nueva_cota = altura_instrumental_anterior - v_minus\n",
    "\n",
    "        # Verificar si hay cambios en COTA\n",
    "        if df2.loc[i, 'COTA'] != nueva_cota:\n",
    "            df2.loc[i, 'COTA'] = nueva_cota\n",
    "            cambios_realizados = True  # Se ha realizado un cambio"
   ]
  },
  {
   "cell_type": "code",
   "execution_count": 16,
   "metadata": {},
   "outputs": [
    {
     "data": {
      "text/html": [
       "<div>\n",
       "<style scoped>\n",
       "    .dataframe tbody tr th:only-of-type {\n",
       "        vertical-align: middle;\n",
       "    }\n",
       "\n",
       "    .dataframe tbody tr th {\n",
       "        vertical-align: top;\n",
       "    }\n",
       "\n",
       "    .dataframe thead th {\n",
       "        text-align: right;\n",
       "    }\n",
       "</style>\n",
       "<table border=\"1\" class=\"dataframe\">\n",
       "  <thead>\n",
       "    <tr style=\"text-align: right;\">\n",
       "      <th></th>\n",
       "      <th>ESTACION</th>\n",
       "      <th>PV</th>\n",
       "      <th>DATO V+</th>\n",
       "      <th>V-</th>\n",
       "      <th>Distancia1</th>\n",
       "      <th>Distancia2</th>\n",
       "      <th>Distancia entre cambios</th>\n",
       "      <th>Distancia Absoluta</th>\n",
       "      <th>ALTURA INSTRUMENTAL</th>\n",
       "      <th>COTA</th>\n",
       "    </tr>\n",
       "  </thead>\n",
       "  <tbody>\n",
       "    <tr>\n",
       "      <th>0</th>\n",
       "      <td>NaN</td>\n",
       "      <td>Valores iniciales</td>\n",
       "      <td>NaN</td>\n",
       "      <td>NaN</td>\n",
       "      <td>NaN</td>\n",
       "      <td>NaN</td>\n",
       "      <td>NaN</td>\n",
       "      <td>NaN</td>\n",
       "      <td>NaN</td>\n",
       "      <td>NaN</td>\n",
       "    </tr>\n",
       "  </tbody>\n",
       "</table>\n",
       "</div>"
      ],
      "text/plain": [
       "   ESTACION                 PV  DATO V+  V-  Distancia1  Distancia2  \\\n",
       "0       NaN  Valores iniciales      NaN NaN         NaN         NaN   \n",
       "\n",
       "   Distancia entre cambios  Distancia Absoluta  ALTURA INSTRUMENTAL  COTA  \n",
       "0                      NaN                 NaN                  NaN   NaN  "
      ]
     },
     "execution_count": 16,
     "metadata": {},
     "output_type": "execute_result"
    }
   ],
   "source": [
    "df2"
   ]
  },
  {
   "cell_type": "markdown",
   "metadata": {},
   "source": [
    "Como podemos evidenciar ambas cotas dan el mismo resultado por ende el codigo funciona correctamente"
   ]
  },
  {
   "cell_type": "code",
   "execution_count": 17,
   "metadata": {},
   "outputs": [],
   "source": [
    "df2['Distancia entre cambios'] = df2['Distancia1'] + df2['Distancia2']"
   ]
  },
  {
   "cell_type": "code",
   "execution_count": 18,
   "metadata": {},
   "outputs": [],
   "source": [
    "for i in range(1, len(df2)):\n",
    "    df2.loc[i, 'Distancia Absoluta'] = df2.loc[i - 1, 'Distancia Absoluta'] + df2.loc[i - 1, 'Distancia entre cambios']"
   ]
  },
  {
   "cell_type": "code",
   "execution_count": 19,
   "metadata": {},
   "outputs": [
    {
     "data": {
      "text/html": [
       "<div>\n",
       "<style scoped>\n",
       "    .dataframe tbody tr th:only-of-type {\n",
       "        vertical-align: middle;\n",
       "    }\n",
       "\n",
       "    .dataframe tbody tr th {\n",
       "        vertical-align: top;\n",
       "    }\n",
       "\n",
       "    .dataframe thead th {\n",
       "        text-align: right;\n",
       "    }\n",
       "</style>\n",
       "<table border=\"1\" class=\"dataframe\">\n",
       "  <thead>\n",
       "    <tr style=\"text-align: right;\">\n",
       "      <th></th>\n",
       "      <th>ESTACION</th>\n",
       "      <th>PV</th>\n",
       "      <th>DATO V+</th>\n",
       "      <th>V-</th>\n",
       "      <th>Distancia1</th>\n",
       "      <th>Distancia2</th>\n",
       "      <th>Distancia entre cambios</th>\n",
       "      <th>Distancia Absoluta</th>\n",
       "      <th>ALTURA INSTRUMENTAL</th>\n",
       "      <th>COTA</th>\n",
       "    </tr>\n",
       "  </thead>\n",
       "  <tbody>\n",
       "    <tr>\n",
       "      <th>0</th>\n",
       "      <td>NaN</td>\n",
       "      <td>Valores iniciales</td>\n",
       "      <td>NaN</td>\n",
       "      <td>NaN</td>\n",
       "      <td>NaN</td>\n",
       "      <td>NaN</td>\n",
       "      <td>NaN</td>\n",
       "      <td>NaN</td>\n",
       "      <td>NaN</td>\n",
       "      <td>NaN</td>\n",
       "    </tr>\n",
       "  </tbody>\n",
       "</table>\n",
       "</div>"
      ],
      "text/plain": [
       "   ESTACION                 PV  DATO V+  V-  Distancia1  Distancia2  \\\n",
       "0       NaN  Valores iniciales      NaN NaN         NaN         NaN   \n",
       "\n",
       "   Distancia entre cambios  Distancia Absoluta  ALTURA INSTRUMENTAL  COTA  \n",
       "0                      NaN                 NaN                  NaN   NaN  "
      ]
     },
     "execution_count": 19,
     "metadata": {},
     "output_type": "execute_result"
    }
   ],
   "source": [
    "df2"
   ]
  },
  {
   "cell_type": "code",
   "execution_count": 20,
   "metadata": {},
   "outputs": [
    {
     "name": "stdout",
     "output_type": "stream",
     "text": [
      "Empty DataFrame\n",
      "Columns: [PV, Baja]\n",
      "Index: []\n"
     ]
    }
   ],
   "source": [
    "# Mostrar Las vistas intermedias, osea los valores de bajas\n",
    "vistas_intermedias = df[['PV', 'Baja']].dropna().reset_index(drop=True)\n",
    "print(vistas_intermedias)"
   ]
  },
  {
   "cell_type": "code",
   "execution_count": 21,
   "metadata": {},
   "outputs": [],
   "source": [
    "df['Altura instrumental'] = df2['ALTURA INSTRUMENTAL']"
   ]
  },
  {
   "cell_type": "code",
   "execution_count": 22,
   "metadata": {},
   "outputs": [],
   "source": [
    "# Eliminar la columna 'Altura instrumental' y guardarla\n",
    "altura_instrumental = df.pop('Altura instrumental')\n",
    "\n",
    "# Insertar la columna en la posición 6\n",
    "df.insert(8, 'Altura instrumental', altura_instrumental)"
   ]
  },
  {
   "cell_type": "code",
   "execution_count": 23,
   "metadata": {},
   "outputs": [
    {
     "data": {
      "text/html": [
       "<div>\n",
       "<style scoped>\n",
       "    .dataframe tbody tr th:only-of-type {\n",
       "        vertical-align: middle;\n",
       "    }\n",
       "\n",
       "    .dataframe tbody tr th {\n",
       "        vertical-align: top;\n",
       "    }\n",
       "\n",
       "    .dataframe thead th {\n",
       "        text-align: right;\n",
       "    }\n",
       "</style>\n",
       "<table border=\"1\" class=\"dataframe\">\n",
       "  <thead>\n",
       "    <tr style=\"text-align: right;\">\n",
       "      <th></th>\n",
       "      <th>ESTACION</th>\n",
       "      <th>PV</th>\n",
       "      <th>Distancia1</th>\n",
       "      <th>Distancia2</th>\n",
       "      <th>Distancia entre cambios</th>\n",
       "      <th>Distancia Absoluta</th>\n",
       "      <th>DATO V+</th>\n",
       "      <th>V-</th>\n",
       "      <th>Altura instrumental</th>\n",
       "      <th>Cota</th>\n",
       "      <th>Sube</th>\n",
       "      <th>Baja</th>\n",
       "    </tr>\n",
       "  </thead>\n",
       "  <tbody>\n",
       "    <tr>\n",
       "      <th>0</th>\n",
       "      <td>NaN</td>\n",
       "      <td>Valores iniciales</td>\n",
       "      <td>NaN</td>\n",
       "      <td>NaN</td>\n",
       "      <td>NaN</td>\n",
       "      <td>NaN</td>\n",
       "      <td>NaN</td>\n",
       "      <td>NaN</td>\n",
       "      <td>NaN</td>\n",
       "      <td>NaN</td>\n",
       "      <td>NaN</td>\n",
       "      <td>NaN</td>\n",
       "    </tr>\n",
       "  </tbody>\n",
       "</table>\n",
       "</div>"
      ],
      "text/plain": [
       "   ESTACION                 PV  Distancia1  Distancia2  \\\n",
       "0       NaN  Valores iniciales         NaN         NaN   \n",
       "\n",
       "   Distancia entre cambios  Distancia Absoluta  DATO V+  V-  \\\n",
       "0                      NaN                 NaN      NaN NaN   \n",
       "\n",
       "   Altura instrumental  Cota  Sube  Baja  \n",
       "0                  NaN   NaN   NaN   NaN  "
      ]
     },
     "execution_count": 23,
     "metadata": {},
     "output_type": "execute_result"
    }
   ],
   "source": [
    "df"
   ]
  },
  {
   "cell_type": "code",
   "execution_count": 24,
   "metadata": {},
   "outputs": [
    {
     "ename": "ValueError",
     "evalue": "Axis limits cannot be NaN or Inf",
     "output_type": "error",
     "traceback": [
      "\u001b[1;31m---------------------------------------------------------------------------\u001b[0m",
      "\u001b[1;31mValueError\u001b[0m                                Traceback (most recent call last)",
      "Cell \u001b[1;32mIn[24], line 27\u001b[0m\n\u001b[0;32m     24\u001b[0m plt\u001b[38;5;241m.\u001b[39mminorticks_on()  \u001b[38;5;66;03m# Activar las marcas menores de los ejes\u001b[39;00m\n\u001b[0;32m     26\u001b[0m \u001b[38;5;66;03m# Ampliar los límites de los ejes en 10 unidades\u001b[39;00m\n\u001b[1;32m---> 27\u001b[0m \u001b[43mplt\u001b[49m\u001b[38;5;241;43m.\u001b[39;49m\u001b[43mxlim\u001b[49m\u001b[43m(\u001b[49m\u001b[43mdf\u001b[49m\u001b[43m[\u001b[49m\u001b[38;5;124;43m'\u001b[39;49m\u001b[38;5;124;43mDistancia Absoluta\u001b[39;49m\u001b[38;5;124;43m'\u001b[39;49m\u001b[43m]\u001b[49m\u001b[38;5;241;43m.\u001b[39;49m\u001b[43mmin\u001b[49m\u001b[43m(\u001b[49m\u001b[43m)\u001b[49m\u001b[43m \u001b[49m\u001b[38;5;241;43m-\u001b[39;49m\u001b[43m \u001b[49m\u001b[38;5;241;43m16\u001b[39;49m\u001b[43m,\u001b[49m\u001b[43m \u001b[49m\u001b[43mdf\u001b[49m\u001b[43m[\u001b[49m\u001b[38;5;124;43m'\u001b[39;49m\u001b[38;5;124;43mDistancia Absoluta\u001b[39;49m\u001b[38;5;124;43m'\u001b[39;49m\u001b[43m]\u001b[49m\u001b[38;5;241;43m.\u001b[39;49m\u001b[43mmax\u001b[49m\u001b[43m(\u001b[49m\u001b[43m)\u001b[49m\u001b[43m \u001b[49m\u001b[38;5;241;43m+\u001b[39;49m\u001b[43m \u001b[49m\u001b[38;5;241;43m10\u001b[39;49m\u001b[43m)\u001b[49m\n\u001b[0;32m     28\u001b[0m plt\u001b[38;5;241m.\u001b[39mylim(df[\u001b[38;5;124m'\u001b[39m\u001b[38;5;124mCota\u001b[39m\u001b[38;5;124m'\u001b[39m]\u001b[38;5;241m.\u001b[39mmin() \u001b[38;5;241m-\u001b[39m \u001b[38;5;241m2\u001b[39m, df[\u001b[38;5;124m'\u001b[39m\u001b[38;5;124mCota\u001b[39m\u001b[38;5;124m'\u001b[39m]\u001b[38;5;241m.\u001b[39mmax() \u001b[38;5;241m+\u001b[39m \u001b[38;5;241m2\u001b[39m)\n\u001b[0;32m     30\u001b[0m \u001b[38;5;66;03m# Mostrar la gráfica\u001b[39;00m\n",
      "File \u001b[1;32md:\\Users\\Jan Sanchez\\Documents\\Repositorios\\Programacion\\Tarea heidy\\.venv\\Lib\\site-packages\\matplotlib\\pyplot.py:2107\u001b[0m, in \u001b[0;36mxlim\u001b[1;34m(*args, **kwargs)\u001b[0m\n\u001b[0;32m   2105\u001b[0m \u001b[38;5;28;01mif\u001b[39;00m \u001b[38;5;129;01mnot\u001b[39;00m args \u001b[38;5;129;01mand\u001b[39;00m \u001b[38;5;129;01mnot\u001b[39;00m kwargs:\n\u001b[0;32m   2106\u001b[0m     \u001b[38;5;28;01mreturn\u001b[39;00m ax\u001b[38;5;241m.\u001b[39mget_xlim()\n\u001b[1;32m-> 2107\u001b[0m ret \u001b[38;5;241m=\u001b[39m \u001b[43max\u001b[49m\u001b[38;5;241;43m.\u001b[39;49m\u001b[43mset_xlim\u001b[49m\u001b[43m(\u001b[49m\u001b[38;5;241;43m*\u001b[39;49m\u001b[43margs\u001b[49m\u001b[43m,\u001b[49m\u001b[43m \u001b[49m\u001b[38;5;241;43m*\u001b[39;49m\u001b[38;5;241;43m*\u001b[39;49m\u001b[43mkwargs\u001b[49m\u001b[43m)\u001b[49m\n\u001b[0;32m   2108\u001b[0m \u001b[38;5;28;01mreturn\u001b[39;00m ret\n",
      "File \u001b[1;32md:\\Users\\Jan Sanchez\\Documents\\Repositorios\\Programacion\\Tarea heidy\\.venv\\Lib\\site-packages\\matplotlib\\axes\\_base.py:3739\u001b[0m, in \u001b[0;36m_AxesBase.set_xlim\u001b[1;34m(self, left, right, emit, auto, xmin, xmax)\u001b[0m\n\u001b[0;32m   3737\u001b[0m         \u001b[38;5;28;01mraise\u001b[39;00m \u001b[38;5;167;01mTypeError\u001b[39;00m(\u001b[38;5;124m\"\u001b[39m\u001b[38;5;124mCannot pass both \u001b[39m\u001b[38;5;124m'\u001b[39m\u001b[38;5;124mright\u001b[39m\u001b[38;5;124m'\u001b[39m\u001b[38;5;124m and \u001b[39m\u001b[38;5;124m'\u001b[39m\u001b[38;5;124mxmax\u001b[39m\u001b[38;5;124m'\u001b[39m\u001b[38;5;124m\"\u001b[39m)\n\u001b[0;32m   3738\u001b[0m     right \u001b[38;5;241m=\u001b[39m xmax\n\u001b[1;32m-> 3739\u001b[0m \u001b[38;5;28;01mreturn\u001b[39;00m \u001b[38;5;28;43mself\u001b[39;49m\u001b[38;5;241;43m.\u001b[39;49m\u001b[43mxaxis\u001b[49m\u001b[38;5;241;43m.\u001b[39;49m\u001b[43m_set_lim\u001b[49m\u001b[43m(\u001b[49m\u001b[43mleft\u001b[49m\u001b[43m,\u001b[49m\u001b[43m \u001b[49m\u001b[43mright\u001b[49m\u001b[43m,\u001b[49m\u001b[43m \u001b[49m\u001b[43memit\u001b[49m\u001b[38;5;241;43m=\u001b[39;49m\u001b[43memit\u001b[49m\u001b[43m,\u001b[49m\u001b[43m \u001b[49m\u001b[43mauto\u001b[49m\u001b[38;5;241;43m=\u001b[39;49m\u001b[43mauto\u001b[49m\u001b[43m)\u001b[49m\n",
      "File \u001b[1;32md:\\Users\\Jan Sanchez\\Documents\\Repositorios\\Programacion\\Tarea heidy\\.venv\\Lib\\site-packages\\matplotlib\\axis.py:1236\u001b[0m, in \u001b[0;36mAxis._set_lim\u001b[1;34m(self, v0, v1, emit, auto)\u001b[0m\n\u001b[0;32m   1233\u001b[0m name \u001b[38;5;241m=\u001b[39m \u001b[38;5;28mself\u001b[39m\u001b[38;5;241m.\u001b[39m_get_axis_name()\n\u001b[0;32m   1235\u001b[0m \u001b[38;5;28mself\u001b[39m\u001b[38;5;241m.\u001b[39maxes\u001b[38;5;241m.\u001b[39m_process_unit_info([(name, (v0, v1))], convert\u001b[38;5;241m=\u001b[39m\u001b[38;5;28;01mFalse\u001b[39;00m)\n\u001b[1;32m-> 1236\u001b[0m v0 \u001b[38;5;241m=\u001b[39m \u001b[38;5;28;43mself\u001b[39;49m\u001b[38;5;241;43m.\u001b[39;49m\u001b[43maxes\u001b[49m\u001b[38;5;241;43m.\u001b[39;49m\u001b[43m_validate_converted_limits\u001b[49m\u001b[43m(\u001b[49m\u001b[43mv0\u001b[49m\u001b[43m,\u001b[49m\u001b[43m \u001b[49m\u001b[38;5;28;43mself\u001b[39;49m\u001b[38;5;241;43m.\u001b[39;49m\u001b[43mconvert_units\u001b[49m\u001b[43m)\u001b[49m\n\u001b[0;32m   1237\u001b[0m v1 \u001b[38;5;241m=\u001b[39m \u001b[38;5;28mself\u001b[39m\u001b[38;5;241m.\u001b[39maxes\u001b[38;5;241m.\u001b[39m_validate_converted_limits(v1, \u001b[38;5;28mself\u001b[39m\u001b[38;5;241m.\u001b[39mconvert_units)\n\u001b[0;32m   1239\u001b[0m \u001b[38;5;28;01mif\u001b[39;00m v0 \u001b[38;5;129;01mis\u001b[39;00m \u001b[38;5;28;01mNone\u001b[39;00m \u001b[38;5;129;01mor\u001b[39;00m v1 \u001b[38;5;129;01mis\u001b[39;00m \u001b[38;5;28;01mNone\u001b[39;00m:\n\u001b[0;32m   1240\u001b[0m     \u001b[38;5;66;03m# Axes init calls set_xlim(0, 1) before get_xlim() can be called,\u001b[39;00m\n\u001b[0;32m   1241\u001b[0m     \u001b[38;5;66;03m# so only grab the limits if we really need them.\u001b[39;00m\n",
      "File \u001b[1;32md:\\Users\\Jan Sanchez\\Documents\\Repositorios\\Programacion\\Tarea heidy\\.venv\\Lib\\site-packages\\matplotlib\\axes\\_base.py:3660\u001b[0m, in \u001b[0;36m_AxesBase._validate_converted_limits\u001b[1;34m(self, limit, convert)\u001b[0m\n\u001b[0;32m   3657\u001b[0m     converted_limit \u001b[38;5;241m=\u001b[39m converted_limit\u001b[38;5;241m.\u001b[39msqueeze()\n\u001b[0;32m   3658\u001b[0m \u001b[38;5;28;01mif\u001b[39;00m (\u001b[38;5;28misinstance\u001b[39m(converted_limit, Real)\n\u001b[0;32m   3659\u001b[0m         \u001b[38;5;129;01mand\u001b[39;00m \u001b[38;5;129;01mnot\u001b[39;00m np\u001b[38;5;241m.\u001b[39misfinite(converted_limit)):\n\u001b[1;32m-> 3660\u001b[0m     \u001b[38;5;28;01mraise\u001b[39;00m \u001b[38;5;167;01mValueError\u001b[39;00m(\u001b[38;5;124m\"\u001b[39m\u001b[38;5;124mAxis limits cannot be NaN or Inf\u001b[39m\u001b[38;5;124m\"\u001b[39m)\n\u001b[0;32m   3661\u001b[0m \u001b[38;5;28;01mreturn\u001b[39;00m converted_limit\n",
      "\u001b[1;31mValueError\u001b[0m: Axis limits cannot be NaN or Inf"
     ]
    },
    {
     "name": "stderr",
     "output_type": "stream",
     "text": [
      "posx and posy should be finite values\n",
      "posx and posy should be finite values\n",
      "posx and posy should be finite values\n"
     ]
    },
    {
     "data": {
      "image/png": "[encoded data removed]",
      "text/plain": [
       "<Figure size 1000x600 with 2 Axes>"
      ]
     },
     "metadata": {},
     "output_type": "display_data"
    }
   ],
   "source": [
    "# Crear la figura\n",
    "plt.figure(figsize=(10, 6))\n",
    "\n",
    "# Graficar los puntos usando color en función de la columna Cota\n",
    "scatter = plt.scatter(df['Distancia Absoluta'].round(2), df['Cota'], \n",
    "                      c=df['Cota'], cmap='viridis', s=100, marker='o')\n",
    "\n",
    "# Mostrar las coordenadas (x, y) en cada punto con dos decimales\n",
    "for i in range(len(df)):\n",
    "    plt.text(df['Distancia Absoluta'].round(2)[i], df['Cota'][i], \n",
    "             f'({df[\"Distancia Absoluta\"].round(2)[i]}, {df[\"Cota\"][i]:.2f})', \n",
    "             fontsize=9, ha='right', va='bottom')\n",
    "\n",
    "# Agregar barra de colores para visualizar los valores de Cota\n",
    "plt.colorbar(scatter, label='Cota')\n",
    "\n",
    "# Agregar títulos y etiquetas\n",
    "plt.title('Gráfica de Puntos: Distancia Absoluta vs Cota')\n",
    "plt.xlabel('Distancia Absoluta')\n",
    "plt.ylabel('Cota')\n",
    "\n",
    "# Ajustar la cuadrícula\n",
    "plt.grid(True, which='both', linestyle='--', linewidth=0.5)  # Ajustar estilo y grosor\n",
    "plt.minorticks_on()  # Activar las marcas menores de los ejes\n",
    "\n",
    "# Ampliar los límites de los ejes en 10 unidades\n",
    "plt.xlim(df['Distancia Absoluta'].min() - 16, df['Distancia Absoluta'].max() + 10)\n",
    "plt.ylim(df['Cota'].min() - 2, df['Cota'].max() + 2)\n",
    "\n",
    "# Mostrar la gráfica\n",
    "plt.show()\n"
   ]
  }
 ],
 "metadata": {
  "kernelspec": {
   "display_name": ".venv",
   "language": "python",
   "name": "python3"
  },
  "language_info": {
   "codemirror_mode": {
    "name": "ipython",
    "version": 3
   },
   "file_extension": ".py",
   "mimetype": "text/x-python",
   "name": "python",
   "nbconvert_exporter": "python",
   "pygments_lexer": "ipython3",
   "version": "3.12.1"
  }
 },
 "nbformat": 4,
 "nbformat_minor": 2
}
